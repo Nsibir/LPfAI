{
 "cells": [
  {
   "cell_type": "code",
   "execution_count": 1,
   "id": "d5527135-dad6-4802-a063-ccf8fb94e796",
   "metadata": {
    "id": "d5527135-dad6-4802-a063-ccf8fb94e796"
   },
   "outputs": [],
   "source": [
    "import tensorflow as tf #предоставляет инструменты для создания и обучения нейронных сетей под различные задачи по обработки данных\n",
    "from tensorflow.keras import layers, Model #keras позволяет быстрее создавать и настраивать модели, предобрабатывать данные\n",
    "from tensorflow.keras.preprocessing.text import Tokenizer #токенайзер для разбивки вопросов на отдельные слова\n",
    "from tensorflow.keras.preprocessing.sequence import pad_sequences #преобразует список предложений в двумерный массив NumPy определенного размера\n",
    "from sklearn.preprocessing import LabelEncoder #кодтрование категориальных принаков\n",
    "from sklearn.model_selection import train_test_split #разделение на тренировочную и тестовую выборки\n",
    "import numpy as np #для математических вычислений\n",
    "import matplotlib.pyplot as plt #для отрисовки графиков\n",
    "import json #для импорта данных"
   ]
  },
  {
   "cell_type": "code",
   "execution_count": 2,
   "id": "YHDn15RCnGiX",
   "metadata": {
    "id": "YHDn15RCnGiX"
   },
   "outputs": [],
   "source": [
    "# Пути к данным\n",
    "train_scenes_path = \"C:/Users/Nadezhda Sibiryakova/Nadya/LPfAI/CLEVR_v1.0/scenes/CLEVR_train_scenes.json\"\n",
    "train_questions_path = \"C:/Users/Nadezhda Sibiryakova/Nadya/LPfAI/CLEVR_v1.0/questions/CLEVR_train_questions.json\""
   ]
  },
  {
   "cell_type": "code",
   "execution_count": 3,
   "id": "FgD-wMVvnSx3",
   "metadata": {
    "id": "FgD-wMVvnSx3"
   },
   "outputs": [],
   "source": [
    "# Функция для загрузки данных JSON\n",
    "def load_json(filepath):\n",
    "    \"\"\"Загружает JSON-файл и возвращает его содержимое.\"\"\"\n",
    "    with open(filepath, 'r') as file:\n",
    "        data = json.load(file)\n",
    "    return data"
   ]
  },
  {
   "cell_type": "code",
   "execution_count": 4,
   "id": "-HTSRRmTnW4H",
   "metadata": {
    "id": "-HTSRRmTnW4H"
   },
   "outputs": [],
   "source": [
    "# Функция для подготовки вопросов\n",
    "def preprocess_questions(questions, max_length):\n",
    "    \"\"\"Токенизирует и выравнивает вопросы.\"\"\"\n",
    "    tokenizer = Tokenizer()  # Создание токенизатора\n",
    "    tokenizer.fit_on_texts([q['question'] for q in questions])  # Создание словаря токенов\n",
    "    sequences = tokenizer.texts_to_sequences([q['question'] for q in questions])  # Преобразование вопросов в числовые последовательности\n",
    "    padded = pad_sequences(sequences, maxlen=max_length)  # Паддинг последовательностей\n",
    "    return padded, tokenizer  # Возвращаем токенизированные вопросы и сам токенизатор"
   ]
  },
  {
   "cell_type": "code",
   "execution_count": 5,
   "id": "p2HLDONHnb0G",
   "metadata": {
    "id": "p2HLDONHnb0G"
   },
   "outputs": [],
   "source": [
    "# Функция для подготовки сцен\n",
    "def preprocess_scenes(scenes, max_length):\n",
    "    \"\"\"Кодирует объекты в сценах.\"\"\"\n",
    "    scene_encoder = LabelEncoder()  # Кодировщик для объектов\n",
    "    all_objects = [obj['shape'] for scene in scenes for obj in scene['objects']]  # Список всех объектов\n",
    "    scene_encoder.fit(all_objects)  # Подготовка кодировщика на всех объектах\n",
    "    encoded_scenes = []\n",
    "\n",
    "    for scene in scenes:\n",
    "        object_labels = [scene_encoder.transform([obj['shape']])[0] for obj in scene['objects']]  # Кодирование объектов\n",
    "        encoded_scenes.append(object_labels)\n",
    "\n",
    "    padded = pad_sequences(encoded_scenes, maxlen=max_length)  # Паддинг последовательностей\n",
    "    return padded, scene_encoder  # Возвращаем закодированные сцены и кодировщик"
   ]
  },
  {
   "cell_type": "code",
   "execution_count": 6,
   "id": "i5w4roNMnebj",
   "metadata": {
    "id": "i5w4roNMnebj"
   },
   "outputs": [],
   "source": [
    "# Функция для ответов\n",
    "def encode_labels(labels):\n",
    "    \"\"\"Кодирует метки (ответы) в числовой формат.\"\"\"\n",
    "    label_encoder = LabelEncoder()  # Кодировщик для меток\n",
    "    encoded_labels = label_encoder.fit_transform(labels)  # Кодируем ответы\n",
    "    return encoded_labels, label_encoder  # Возвращаем закодированные ответы и сам кодировщик"
   ]
  },
  {
   "cell_type": "code",
   "execution_count": 7,
   "id": "ValzoHaRnzYH",
   "metadata": {
    "id": "ValzoHaRnzYH"
   },
   "outputs": [],
   "source": [
    "# Гиперпараметры модели\n",
    "max_question_length = 20  # Максимальная длина вопросов (после токенизации и паддинга)\n",
    "max_scene_length = 10  # Максимальное количество объектов в сцене\n",
    "embedding_dim = 128  # Размерность скрытого пространства\n",
    "lstm_units = 64  # Количество нейронов в каждом LSTM-слое\n",
    "dense_units = 128  # Количество нейронов в полносвязном слое"
   ]
  },
  {
   "cell_type": "code",
   "execution_count": 8,
   "id": "PlSIUcMYnt0n",
   "metadata": {
    "id": "PlSIUcMYnt0n"
   },
   "outputs": [],
   "source": [
    "# Построение модели\n",
    "def build_VQA_model(max_question_length, max_scene_length, question_vocab_size, scene_vocab_size, num_classes):\n",
    "    \"\"\"\n",
    "    Создание модели VQA с использованием LSTM (Long Short-Term Memory, используется для сохранения и обработке долгосрочной зависимости в данных)\n",
    "    \"\"\"\n",
    "    # Вход для вопросов\n",
    "    q_input = layers.Input(shape=(max_question_length,), name='question_input')  # Вопросы как последовательности индексов\n",
    "    q_embedding = layers.Embedding(\n",
    "        input_dim=question_vocab_size,  # Размер словаря для вопросов\n",
    "        output_dim=embedding_dim,  # Размерность эмбеддингов\n",
    "        mask_zero=True  # Игнорируем нулевые токены (паддинги)\n",
    "    )(q_input) #преобразует целочисленные последовательности в плотные векторы\n",
    "    q_lstm = layers.LSTM(lstm_units)(q_embedding) \n",
    "\n",
    "    # Вход для сцен\n",
    "    s_input = layers.Input(shape=(max_scene_length,), name='scene_input')  # Сцены как последовательности индексов\n",
    "    s_embedding = layers.Embedding(\n",
    "        input_dim=scene_vocab_size,  # Размер словаря для объектов в сцене\n",
    "        output_dim=embedding_dim,  # Размерность эмбеддингов\n",
    "        mask_zero=True  # Игнорируем нулевые токены (паддинги)\n",
    "    )(s_input) #преобразует целочисленные последовательности в плотные векторы\n",
    "    s_lstm = layers.LSTM(lstm_units)(s_embedding)\n",
    "\n",
    "    # Комбинирование выходов LSTM\n",
    "    combined = layers.concatenate([q_lstm, s_lstm])\n",
    "\n",
    "    # Полносвязные слои\n",
    "    fc1 = layers.Dense(dense_units, activation='relu')(combined)\n",
    "    output = layers.Dense(num_classes, activation='softmax')(fc1)  # Классификация\n",
    "\n",
    "    # Создание модели\n",
    "    model = Model(inputs=[q_input, s_input], outputs=output)\n",
    "\n",
    "    # Компиляция модели\n",
    "    model.compile(\n",
    "        optimizer='adam',\n",
    "        loss='sparse_categorical_crossentropy',\n",
    "        metrics=['accuracy']\n",
    "    )\n",
    "\n",
    "    return model"
   ]
  },
  {
   "cell_type": "code",
   "execution_count": 9,
   "id": "E6HW2P8in6PD",
   "metadata": {
    "id": "E6HW2P8in6PD"
   },
   "outputs": [],
   "source": [
    "# Загрузка данных\n",
    "train_questions = load_json(train_questions_path)['questions']\n",
    "train_scenes = load_json(train_scenes_path)['scenes']"
   ]
  },
  {
   "cell_type": "code",
   "execution_count": 10,
   "id": "93888a08-b4b1-4f88-acee-9ad907e3a733",
   "metadata": {},
   "outputs": [],
   "source": [
    "# Функция для фильтрации и выравнивания вопросов, сцен и ответов\n",
    "def align_data(questions, scenes, answers):\n",
    "    \"\"\"\n",
    "    Убедиться, что у каждого вопроса есть соответствующая сцена.\n",
    "    Фильтрует вопросы, сцены и ответы, чтобы их размеры совпадали.\n",
    "    \"\"\"\n",
    "    aligned_questions = [] # хранение вопросов\n",
    "    aligned_scenes = [] # хранение сцен\n",
    "    aligned_answers = [] # хранение ответов\n",
    "\n",
    "    # Создаем карту сцен по названию изображения\n",
    "    scene_map = {scene['image_filename']: scene for scene in scenes}\n",
    "\n",
    "    for question in questions:\n",
    "        image_filename = question['image_filename']  # Получаем название изображения\n",
    "        if image_filename in scene_map:  # Проверяем, есть ли такая сцена\n",
    "            aligned_questions.append(question)  #если сцена есть, то добавляем в список вопрос\n",
    "            aligned_scenes.append(scene_map[image_filename]) # сцену\n",
    "            aligned_answers.append(question['answer']) # и ответ\n",
    "\n",
    "    return aligned_questions, aligned_scenes, aligned_answers # возвращаем три списка: выравненные вопросы, сцены и ответы"
   ]
  },
  {
   "cell_type": "code",
   "execution_count": 12,
   "id": "bdb10de3-3146-46bc-a0f4-2a40ad9fb065",
   "metadata": {},
   "outputs": [],
   "source": [
    "# Фильтруем и выравниваем тренировочные данные\n",
    "aligned_train_questions, aligned_train_scenes, aligned_train_answers = align_data(\n",
    "    train_questions, train_scenes, [q['answer'] for q in train_questions]\n",
    ")\n",
    "\n",
    "# Предобработка данных\n",
    "question, question_tokenizer = preprocess_questions(aligned_train_questions, max_question_length)  # Вопросы для обучения\n",
    "scene, scene_encoder = preprocess_scenes(aligned_train_scenes, max_scene_length) # Сцены для обучения\n",
    "answer, label_encoder = encode_labels(aligned_train_answers)  # Ответы для обучения\n",
    "\n",
    "q_train, q_test, s_train, s_test, a_train, a_test = train_test_split(question, scene, answer, test_size=0.33, random_state=42)"
   ]
  },
  {
   "cell_type": "code",
   "execution_count": 13,
   "id": "0Pp3rQB_oAe_",
   "metadata": {
    "id": "0Pp3rQB_oAe_"
   },
   "outputs": [],
   "source": [
    "# Построение модели\n",
    "model = build_VQA_model(\n",
    "    max_question_length=max_question_length,\n",
    "    max_scene_length=max_scene_length,\n",
    "    question_vocab_size=len(question_tokenizer.word_index) + 1,\n",
    "    scene_vocab_size=len(scene_encoder.classes_),\n",
    "    num_classes=len(label_encoder.classes_)\n",
    ")"
   ]
  },
  {
   "cell_type": "code",
   "execution_count": 14,
   "id": "K9MdC7ProDCa",
   "metadata": {
    "colab": {
     "base_uri": "https://localhost:8080/"
    },
    "id": "K9MdC7ProDCa",
    "outputId": "881606cf-1926-4387-f5c2-85a6082055f7"
   },
   "outputs": [
    {
     "name": "stdout",
     "output_type": "stream",
     "text": [
      "Epoch 1/10\n"
     ]
    },
    {
     "name": "stderr",
     "output_type": "stream",
     "text": [
      "D:\\Anaconda3\\Lib\\site-packages\\keras\\src\\models\\functional.py:225: UserWarning: The structure of `inputs` doesn't match the expected structure: ['question_input', 'scene_input']. Received: the structure of inputs=('*', '*')\n",
      "  warnings.warn(\n"
     ]
    },
    {
     "name": "stdout",
     "output_type": "stream",
     "text": [
      "\u001b[1m5863/5863\u001b[0m \u001b[32m━━━━━━━━━━━━━━━━━━━━\u001b[0m\u001b[37m\u001b[0m \u001b[1m126s\u001b[0m 20ms/step - accuracy: 0.4062 - loss: 1.2655 - val_accuracy: 0.4573 - val_loss: 1.0480\n",
      "Epoch 2/10\n",
      "\u001b[1m5863/5863\u001b[0m \u001b[32m━━━━━━━━━━━━━━━━━━━━\u001b[0m\u001b[37m\u001b[0m \u001b[1m113s\u001b[0m 19ms/step - accuracy: 0.4596 - loss: 1.0440 - val_accuracy: 0.4681 - val_loss: 1.0332\n",
      "Epoch 3/10\n",
      "\u001b[1m5863/5863\u001b[0m \u001b[32m━━━━━━━━━━━━━━━━━━━━\u001b[0m\u001b[37m\u001b[0m \u001b[1m111s\u001b[0m 19ms/step - accuracy: 0.4703 - loss: 1.0288 - val_accuracy: 0.4708 - val_loss: 1.0236\n",
      "Epoch 4/10\n",
      "\u001b[1m5863/5863\u001b[0m \u001b[32m━━━━━━━━━━━━━━━━━━━━\u001b[0m\u001b[37m\u001b[0m \u001b[1m117s\u001b[0m 20ms/step - accuracy: 0.4757 - loss: 1.0207 - val_accuracy: 0.4759 - val_loss: 1.0197\n",
      "Epoch 5/10\n",
      "\u001b[1m5863/5863\u001b[0m \u001b[32m━━━━━━━━━━━━━━━━━━━━\u001b[0m\u001b[37m\u001b[0m \u001b[1m124s\u001b[0m 21ms/step - accuracy: 0.4796 - loss: 1.0155 - val_accuracy: 0.4764 - val_loss: 1.0193\n",
      "Epoch 6/10\n",
      "\u001b[1m5863/5863\u001b[0m \u001b[32m━━━━━━━━━━━━━━━━━━━━\u001b[0m\u001b[37m\u001b[0m \u001b[1m124s\u001b[0m 21ms/step - accuracy: 0.4810 - loss: 1.0108 - val_accuracy: 0.4778 - val_loss: 1.0174\n",
      "Epoch 7/10\n",
      "\u001b[1m5863/5863\u001b[0m \u001b[32m━━━━━━━━━━━━━━━━━━━━\u001b[0m\u001b[37m\u001b[0m \u001b[1m119s\u001b[0m 20ms/step - accuracy: 0.4837 - loss: 1.0099 - val_accuracy: 0.4790 - val_loss: 1.0143\n",
      "Epoch 8/10\n",
      "\u001b[1m5863/5863\u001b[0m \u001b[32m━━━━━━━━━━━━━━━━━━━━\u001b[0m\u001b[37m\u001b[0m \u001b[1m116s\u001b[0m 20ms/step - accuracy: 0.4853 - loss: 1.0063 - val_accuracy: 0.4809 - val_loss: 1.0111\n",
      "Epoch 9/10\n",
      "\u001b[1m5863/5863\u001b[0m \u001b[32m━━━━━━━━━━━━━━━━━━━━\u001b[0m\u001b[37m\u001b[0m \u001b[1m108s\u001b[0m 18ms/step - accuracy: 0.4872 - loss: 1.0029 - val_accuracy: 0.4812 - val_loss: 1.0123\n",
      "Epoch 10/10\n",
      "\u001b[1m5863/5863\u001b[0m \u001b[32m━━━━━━━━━━━━━━━━━━━━\u001b[0m\u001b[37m\u001b[0m \u001b[1m113s\u001b[0m 19ms/step - accuracy: 0.4915 - loss: 0.9987 - val_accuracy: 0.4787 - val_loss: 1.0134\n"
     ]
    }
   ],
   "source": [
    "# Обучение модели\n",
    "history = model.fit(\n",
    "    [q_train, s_train],  # Входы: вопросы и сцены\n",
    "    a_train,  # Метки\n",
    "    validation_split=0.2,\n",
    "    #validation_data = ([q_val, s_val], y_val_encoded),  # Валидационные данные\n",
    "    epochs = 10,  # Количество эпох\n",
    "    batch_size = 64  # Размер батча\n",
    ")"
   ]
  },
  {
   "cell_type": "code",
   "execution_count": 15,
   "id": "WJMKrBAV9lrA",
   "metadata": {
    "id": "WJMKrBAV9lrA"
   },
   "outputs": [
    {
     "data": {
      "image/png": "[encoded data removed]",
      "text/plain": [
       "<Figure size 640x480 with 1 Axes>"
      ]
     },
     "metadata": {},
     "output_type": "display_data"
    },
    {
     "data": {
      "image/png": "[encoded data removed]",
      "text/plain": [
       "<Figure size 640x480 with 1 Axes>"
      ]
     },
     "metadata": {},
     "output_type": "display_data"
    }
   ],
   "source": [
    "# Визуализация результатов\n",
    "# График потерь\n",
    "plt.plot(history.history['loss'],'bo-', label='train_loss')\n",
    "plt.plot(history.history['val_loss'], 'ro-', label='val_loss')\n",
    "plt.xlabel('Эпоха')\n",
    "plt.ylabel('Loss')\n",
    "plt.legend()\n",
    "plt.show()\n",
    "\n",
    "# График точности\n",
    "plt.plot(history.history['accuracy'], 'bo-', label='train_accuracy')\n",
    "plt.plot(history.history['val_accuracy'], 'ro-', label='val_accuracy')\n",
    "plt.xlabel('Эпоха')\n",
    "plt.ylabel('Accuracy')\n",
    "plt.legend()\n",
    "plt.show()"
   ]
  },
  {
   "cell_type": "code",
   "execution_count": 17,
   "id": "7f8e3832-fa26-43a2-86bf-a9cf4d785bbf",
   "metadata": {},
   "outputs": [
    {
     "name": "stdout",
     "output_type": "stream",
     "text": [
      "\u001b[1m7219/7219\u001b[0m \u001b[32m━━━━━━━━━━━━━━━━━━━━\u001b[0m\u001b[37m\u001b[0m \u001b[1m40s\u001b[0m 6ms/step - accuracy: 0.4800 - loss: 1.0161\n",
      "Test accuracy:  0.47986769676208496\n",
      "Test loss:  1.0157829523086548\n"
     ]
    }
   ],
   "source": [
    "#проверка на тестовой выьорке\n",
    "loss_test, acc_test = model.evaluate( [q_test, s_test],  a_test)\n",
    "print('Test accuracy: ', acc_test)\n",
    "print('Test loss: ', loss_test)\n"
   ]
  },
  {
   "cell_type": "code",
   "execution_count": null,
   "id": "0e2e41b8-c366-426b-a920-9ab8731236cc",
   "metadata": {},
   "outputs": [],
   "source": []
  }
 ],
 "metadata": {
  "colab": {
   "provenance": []
  },
  "kernelspec": {
   "display_name": "Python 3 (ipykernel)",
   "language": "python",
   "name": "python3"
  },
  "language_info": {
   "codemirror_mode": {
    "name": "ipython",
    "version": 3
   },
   "file_extension": ".py",
   "mimetype": "text/x-python",
   "name": "python",
   "nbconvert_exporter": "python",
   "pygments_lexer": "ipython3",
   "version": "3.12.4"
  }
 },
 "nbformat": 4,
 "nbformat_minor": 5
}
